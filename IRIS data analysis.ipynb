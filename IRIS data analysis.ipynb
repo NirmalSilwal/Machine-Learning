{
 "cells": [
  {
   "cell_type": "code",
   "execution_count": 9,
   "metadata": {},
   "outputs": [],
   "source": [
    "import sklearn\n",
    "from sklearn import tree"
   ]
  },
  {
   "cell_type": "code",
   "execution_count": 10,
   "metadata": {},
   "outputs": [],
   "source": [
    "features = [[140,1],[130,1],[150,0],[170,0]]\n",
    "labels = [0,0,1,1]"
   ]
  },
  {
   "cell_type": "code",
   "execution_count": 11,
   "metadata": {},
   "outputs": [],
   "source": [
    "clf = tree.DecisionTreeClassifier()\n",
    "clf = clf.fit(features,labels)"
   ]
  },
  {
   "cell_type": "code",
   "execution_count": 12,
   "metadata": {},
   "outputs": [
    {
     "name": "stdout",
     "output_type": "stream",
     "text": [
      "[1]\n"
     ]
    }
   ],
   "source": [
    "print clf.predict([[150,0]])"
   ]
  },
  {
   "cell_type": "code",
   "execution_count": 19,
   "metadata": {},
   "outputs": [
    {
     "name": "stdout",
     "output_type": "stream",
     "text": [
      "[0]\n"
     ]
    }
   ],
   "source": [
    "print clf.predict([[140,0]])"
   ]
  },
  {
   "cell_type": "markdown",
   "metadata": {},
   "source": [
    "# IRIS DATASET"
   ]
  },
  {
   "cell_type": "code",
   "execution_count": 17,
   "metadata": {},
   "outputs": [],
   "source": [
    "from sklearn.datasets import load_iris\n",
    "\n",
    "iris = load_iris()"
   ]
  },
  {
   "cell_type": "code",
   "execution_count": 18,
   "metadata": {},
   "outputs": [
    {
     "name": "stdout",
     "output_type": "stream",
     "text": [
      "['sepal length (cm)', 'sepal width (cm)', 'petal length (cm)', 'petal width (cm)']\n"
     ]
    }
   ],
   "source": [
    "print iris.feature_names"
   ]
  },
  {
   "cell_type": "code",
   "execution_count": 19,
   "metadata": {},
   "outputs": [
    {
     "data": {
      "text/plain": [
       "sklearn.utils.Bunch"
      ]
     },
     "execution_count": 19,
     "metadata": {},
     "output_type": "execute_result"
    }
   ],
   "source": [
    "type(iris)"
   ]
  },
  {
   "cell_type": "code",
   "execution_count": 20,
   "metadata": {},
   "outputs": [
    {
     "name": "stdout",
     "output_type": "stream",
     "text": [
      "['sepal length (cm)', 'sepal width (cm)', 'petal length (cm)', 'petal width (cm)']\n"
     ]
    }
   ],
   "source": [
    "print iris.feature_names"
   ]
  },
  {
   "cell_type": "code",
   "execution_count": 34,
   "metadata": {},
   "outputs": [
    {
     "name": "stdout",
     "output_type": "stream",
     "text": [
      "[[5.1 3.5 1.4 0.2]\n",
      " [4.9 3.  1.4 0.2]\n",
      " [4.7 3.2 1.3 0.2]\n",
      " [4.6 3.1 1.5 0.2]\n",
      " [5.  3.6 1.4 0.2]]\n"
     ]
    }
   ],
   "source": [
    "print iris.data[0:5]"
   ]
  },
  {
   "cell_type": "code",
   "execution_count": 24,
   "metadata": {},
   "outputs": [
    {
     "name": "stdout",
     "output_type": "stream",
     "text": [
      "0\n"
     ]
    }
   ],
   "source": [
    "print iris.target[0]"
   ]
  },
  {
   "cell_type": "code",
   "execution_count": 38,
   "metadata": {},
   "outputs": [
    {
     "name": "stdout",
     "output_type": "stream",
     "text": [
      "([0, 0, 1, 1], [[140, 1], [130, 1], [150, 0], [170, 0]])\n",
      "([0, 0, 1, 1], [[140, 1], [130, 1], [150, 0], [170, 0]])\n",
      "([0, 0, 1, 1], [[140, 1], [130, 1], [150, 0], [170, 0]])\n",
      "([0, 0, 1, 1], [[140, 1], [130, 1], [150, 0], [170, 0]])\n",
      "([0, 0, 1, 1], [[140, 1], [130, 1], [150, 0], [170, 0]])\n",
      "([0, 0, 1, 1], [[140, 1], [130, 1], [150, 0], [170, 0]])\n",
      "([0, 0, 1, 1], [[140, 1], [130, 1], [150, 0], [170, 0]])\n",
      "([0, 0, 1, 1], [[140, 1], [130, 1], [150, 0], [170, 0]])\n",
      "([0, 0, 1, 1], [[140, 1], [130, 1], [150, 0], [170, 0]])\n",
      "([0, 0, 1, 1], [[140, 1], [130, 1], [150, 0], [170, 0]])\n",
      "([0, 0, 1, 1], [[140, 1], [130, 1], [150, 0], [170, 0]])\n",
      "([0, 0, 1, 1], [[140, 1], [130, 1], [150, 0], [170, 0]])\n",
      "([0, 0, 1, 1], [[140, 1], [130, 1], [150, 0], [170, 0]])\n",
      "([0, 0, 1, 1], [[140, 1], [130, 1], [150, 0], [170, 0]])\n",
      "([0, 0, 1, 1], [[140, 1], [130, 1], [150, 0], [170, 0]])\n",
      "([0, 0, 1, 1], [[140, 1], [130, 1], [150, 0], [170, 0]])\n",
      "([0, 0, 1, 1], [[140, 1], [130, 1], [150, 0], [170, 0]])\n",
      "([0, 0, 1, 1], [[140, 1], [130, 1], [150, 0], [170, 0]])\n",
      "([0, 0, 1, 1], [[140, 1], [130, 1], [150, 0], [170, 0]])\n",
      "([0, 0, 1, 1], [[140, 1], [130, 1], [150, 0], [170, 0]])\n",
      "([0, 0, 1, 1], [[140, 1], [130, 1], [150, 0], [170, 0]])\n",
      "([0, 0, 1, 1], [[140, 1], [130, 1], [150, 0], [170, 0]])\n",
      "([0, 0, 1, 1], [[140, 1], [130, 1], [150, 0], [170, 0]])\n",
      "([0, 0, 1, 1], [[140, 1], [130, 1], [150, 0], [170, 0]])\n",
      "([0, 0, 1, 1], [[140, 1], [130, 1], [150, 0], [170, 0]])\n",
      "([0, 0, 1, 1], [[140, 1], [130, 1], [150, 0], [170, 0]])\n",
      "([0, 0, 1, 1], [[140, 1], [130, 1], [150, 0], [170, 0]])\n",
      "([0, 0, 1, 1], [[140, 1], [130, 1], [150, 0], [170, 0]])\n",
      "([0, 0, 1, 1], [[140, 1], [130, 1], [150, 0], [170, 0]])\n",
      "([0, 0, 1, 1], [[140, 1], [130, 1], [150, 0], [170, 0]])\n",
      "([0, 0, 1, 1], [[140, 1], [130, 1], [150, 0], [170, 0]])\n",
      "([0, 0, 1, 1], [[140, 1], [130, 1], [150, 0], [170, 0]])\n",
      "([0, 0, 1, 1], [[140, 1], [130, 1], [150, 0], [170, 0]])\n",
      "([0, 0, 1, 1], [[140, 1], [130, 1], [150, 0], [170, 0]])\n",
      "([0, 0, 1, 1], [[140, 1], [130, 1], [150, 0], [170, 0]])\n",
      "([0, 0, 1, 1], [[140, 1], [130, 1], [150, 0], [170, 0]])\n",
      "([0, 0, 1, 1], [[140, 1], [130, 1], [150, 0], [170, 0]])\n",
      "([0, 0, 1, 1], [[140, 1], [130, 1], [150, 0], [170, 0]])\n",
      "([0, 0, 1, 1], [[140, 1], [130, 1], [150, 0], [170, 0]])\n",
      "([0, 0, 1, 1], [[140, 1], [130, 1], [150, 0], [170, 0]])\n",
      "([0, 0, 1, 1], [[140, 1], [130, 1], [150, 0], [170, 0]])\n",
      "([0, 0, 1, 1], [[140, 1], [130, 1], [150, 0], [170, 0]])\n",
      "([0, 0, 1, 1], [[140, 1], [130, 1], [150, 0], [170, 0]])\n",
      "([0, 0, 1, 1], [[140, 1], [130, 1], [150, 0], [170, 0]])\n",
      "([0, 0, 1, 1], [[140, 1], [130, 1], [150, 0], [170, 0]])\n",
      "([0, 0, 1, 1], [[140, 1], [130, 1], [150, 0], [170, 0]])\n",
      "([0, 0, 1, 1], [[140, 1], [130, 1], [150, 0], [170, 0]])\n",
      "([0, 0, 1, 1], [[140, 1], [130, 1], [150, 0], [170, 0]])\n",
      "([0, 0, 1, 1], [[140, 1], [130, 1], [150, 0], [170, 0]])\n",
      "([0, 0, 1, 1], [[140, 1], [130, 1], [150, 0], [170, 0]])\n",
      "([0, 0, 1, 1], [[140, 1], [130, 1], [150, 0], [170, 0]])\n",
      "([0, 0, 1, 1], [[140, 1], [130, 1], [150, 0], [170, 0]])\n",
      "([0, 0, 1, 1], [[140, 1], [130, 1], [150, 0], [170, 0]])\n",
      "([0, 0, 1, 1], [[140, 1], [130, 1], [150, 0], [170, 0]])\n",
      "([0, 0, 1, 1], [[140, 1], [130, 1], [150, 0], [170, 0]])\n",
      "([0, 0, 1, 1], [[140, 1], [130, 1], [150, 0], [170, 0]])\n",
      "([0, 0, 1, 1], [[140, 1], [130, 1], [150, 0], [170, 0]])\n",
      "([0, 0, 1, 1], [[140, 1], [130, 1], [150, 0], [170, 0]])\n",
      "([0, 0, 1, 1], [[140, 1], [130, 1], [150, 0], [170, 0]])\n",
      "([0, 0, 1, 1], [[140, 1], [130, 1], [150, 0], [170, 0]])\n",
      "([0, 0, 1, 1], [[140, 1], [130, 1], [150, 0], [170, 0]])\n",
      "([0, 0, 1, 1], [[140, 1], [130, 1], [150, 0], [170, 0]])\n",
      "([0, 0, 1, 1], [[140, 1], [130, 1], [150, 0], [170, 0]])\n",
      "([0, 0, 1, 1], [[140, 1], [130, 1], [150, 0], [170, 0]])\n",
      "([0, 0, 1, 1], [[140, 1], [130, 1], [150, 0], [170, 0]])\n",
      "([0, 0, 1, 1], [[140, 1], [130, 1], [150, 0], [170, 0]])\n",
      "([0, 0, 1, 1], [[140, 1], [130, 1], [150, 0], [170, 0]])\n",
      "([0, 0, 1, 1], [[140, 1], [130, 1], [150, 0], [170, 0]])\n",
      "([0, 0, 1, 1], [[140, 1], [130, 1], [150, 0], [170, 0]])\n",
      "([0, 0, 1, 1], [[140, 1], [130, 1], [150, 0], [170, 0]])\n",
      "([0, 0, 1, 1], [[140, 1], [130, 1], [150, 0], [170, 0]])\n",
      "([0, 0, 1, 1], [[140, 1], [130, 1], [150, 0], [170, 0]])\n",
      "([0, 0, 1, 1], [[140, 1], [130, 1], [150, 0], [170, 0]])\n",
      "([0, 0, 1, 1], [[140, 1], [130, 1], [150, 0], [170, 0]])\n",
      "([0, 0, 1, 1], [[140, 1], [130, 1], [150, 0], [170, 0]])\n",
      "([0, 0, 1, 1], [[140, 1], [130, 1], [150, 0], [170, 0]])\n",
      "([0, 0, 1, 1], [[140, 1], [130, 1], [150, 0], [170, 0]])\n",
      "([0, 0, 1, 1], [[140, 1], [130, 1], [150, 0], [170, 0]])\n",
      "([0, 0, 1, 1], [[140, 1], [130, 1], [150, 0], [170, 0]])\n",
      "([0, 0, 1, 1], [[140, 1], [130, 1], [150, 0], [170, 0]])\n",
      "([0, 0, 1, 1], [[140, 1], [130, 1], [150, 0], [170, 0]])\n",
      "([0, 0, 1, 1], [[140, 1], [130, 1], [150, 0], [170, 0]])\n",
      "([0, 0, 1, 1], [[140, 1], [130, 1], [150, 0], [170, 0]])\n",
      "([0, 0, 1, 1], [[140, 1], [130, 1], [150, 0], [170, 0]])\n",
      "([0, 0, 1, 1], [[140, 1], [130, 1], [150, 0], [170, 0]])\n",
      "([0, 0, 1, 1], [[140, 1], [130, 1], [150, 0], [170, 0]])\n",
      "([0, 0, 1, 1], [[140, 1], [130, 1], [150, 0], [170, 0]])\n",
      "([0, 0, 1, 1], [[140, 1], [130, 1], [150, 0], [170, 0]])\n",
      "([0, 0, 1, 1], [[140, 1], [130, 1], [150, 0], [170, 0]])\n",
      "([0, 0, 1, 1], [[140, 1], [130, 1], [150, 0], [170, 0]])\n",
      "([0, 0, 1, 1], [[140, 1], [130, 1], [150, 0], [170, 0]])\n",
      "([0, 0, 1, 1], [[140, 1], [130, 1], [150, 0], [170, 0]])\n",
      "([0, 0, 1, 1], [[140, 1], [130, 1], [150, 0], [170, 0]])\n",
      "([0, 0, 1, 1], [[140, 1], [130, 1], [150, 0], [170, 0]])\n",
      "([0, 0, 1, 1], [[140, 1], [130, 1], [150, 0], [170, 0]])\n",
      "([0, 0, 1, 1], [[140, 1], [130, 1], [150, 0], [170, 0]])\n",
      "([0, 0, 1, 1], [[140, 1], [130, 1], [150, 0], [170, 0]])\n",
      "([0, 0, 1, 1], [[140, 1], [130, 1], [150, 0], [170, 0]])\n",
      "([0, 0, 1, 1], [[140, 1], [130, 1], [150, 0], [170, 0]])\n",
      "([0, 0, 1, 1], [[140, 1], [130, 1], [150, 0], [170, 0]])\n",
      "([0, 0, 1, 1], [[140, 1], [130, 1], [150, 0], [170, 0]])\n",
      "([0, 0, 1, 1], [[140, 1], [130, 1], [150, 0], [170, 0]])\n",
      "([0, 0, 1, 1], [[140, 1], [130, 1], [150, 0], [170, 0]])\n",
      "([0, 0, 1, 1], [[140, 1], [130, 1], [150, 0], [170, 0]])\n",
      "([0, 0, 1, 1], [[140, 1], [130, 1], [150, 0], [170, 0]])\n",
      "([0, 0, 1, 1], [[140, 1], [130, 1], [150, 0], [170, 0]])\n",
      "([0, 0, 1, 1], [[140, 1], [130, 1], [150, 0], [170, 0]])\n",
      "([0, 0, 1, 1], [[140, 1], [130, 1], [150, 0], [170, 0]])\n",
      "([0, 0, 1, 1], [[140, 1], [130, 1], [150, 0], [170, 0]])\n",
      "([0, 0, 1, 1], [[140, 1], [130, 1], [150, 0], [170, 0]])\n",
      "([0, 0, 1, 1], [[140, 1], [130, 1], [150, 0], [170, 0]])\n",
      "([0, 0, 1, 1], [[140, 1], [130, 1], [150, 0], [170, 0]])\n",
      "([0, 0, 1, 1], [[140, 1], [130, 1], [150, 0], [170, 0]])\n",
      "([0, 0, 1, 1], [[140, 1], [130, 1], [150, 0], [170, 0]])\n",
      "([0, 0, 1, 1], [[140, 1], [130, 1], [150, 0], [170, 0]])\n",
      "([0, 0, 1, 1], [[140, 1], [130, 1], [150, 0], [170, 0]])\n",
      "([0, 0, 1, 1], [[140, 1], [130, 1], [150, 0], [170, 0]])\n",
      "([0, 0, 1, 1], [[140, 1], [130, 1], [150, 0], [170, 0]])\n",
      "([0, 0, 1, 1], [[140, 1], [130, 1], [150, 0], [170, 0]])\n",
      "([0, 0, 1, 1], [[140, 1], [130, 1], [150, 0], [170, 0]])\n",
      "([0, 0, 1, 1], [[140, 1], [130, 1], [150, 0], [170, 0]])\n",
      "([0, 0, 1, 1], [[140, 1], [130, 1], [150, 0], [170, 0]])\n",
      "([0, 0, 1, 1], [[140, 1], [130, 1], [150, 0], [170, 0]])\n",
      "([0, 0, 1, 1], [[140, 1], [130, 1], [150, 0], [170, 0]])\n",
      "([0, 0, 1, 1], [[140, 1], [130, 1], [150, 0], [170, 0]])\n",
      "([0, 0, 1, 1], [[140, 1], [130, 1], [150, 0], [170, 0]])\n",
      "([0, 0, 1, 1], [[140, 1], [130, 1], [150, 0], [170, 0]])\n",
      "([0, 0, 1, 1], [[140, 1], [130, 1], [150, 0], [170, 0]])\n",
      "([0, 0, 1, 1], [[140, 1], [130, 1], [150, 0], [170, 0]])\n",
      "([0, 0, 1, 1], [[140, 1], [130, 1], [150, 0], [170, 0]])\n",
      "([0, 0, 1, 1], [[140, 1], [130, 1], [150, 0], [170, 0]])\n",
      "([0, 0, 1, 1], [[140, 1], [130, 1], [150, 0], [170, 0]])\n",
      "([0, 0, 1, 1], [[140, 1], [130, 1], [150, 0], [170, 0]])\n",
      "([0, 0, 1, 1], [[140, 1], [130, 1], [150, 0], [170, 0]])\n",
      "([0, 0, 1, 1], [[140, 1], [130, 1], [150, 0], [170, 0]])\n",
      "([0, 0, 1, 1], [[140, 1], [130, 1], [150, 0], [170, 0]])\n",
      "([0, 0, 1, 1], [[140, 1], [130, 1], [150, 0], [170, 0]])\n",
      "([0, 0, 1, 1], [[140, 1], [130, 1], [150, 0], [170, 0]])\n",
      "([0, 0, 1, 1], [[140, 1], [130, 1], [150, 0], [170, 0]])\n",
      "([0, 0, 1, 1], [[140, 1], [130, 1], [150, 0], [170, 0]])\n",
      "([0, 0, 1, 1], [[140, 1], [130, 1], [150, 0], [170, 0]])\n",
      "([0, 0, 1, 1], [[140, 1], [130, 1], [150, 0], [170, 0]])\n",
      "([0, 0, 1, 1], [[140, 1], [130, 1], [150, 0], [170, 0]])\n",
      "([0, 0, 1, 1], [[140, 1], [130, 1], [150, 0], [170, 0]])\n",
      "([0, 0, 1, 1], [[140, 1], [130, 1], [150, 0], [170, 0]])\n",
      "([0, 0, 1, 1], [[140, 1], [130, 1], [150, 0], [170, 0]])\n",
      "([0, 0, 1, 1], [[140, 1], [130, 1], [150, 0], [170, 0]])\n",
      "([0, 0, 1, 1], [[140, 1], [130, 1], [150, 0], [170, 0]])\n",
      "([0, 0, 1, 1], [[140, 1], [130, 1], [150, 0], [170, 0]])\n",
      "([0, 0, 1, 1], [[140, 1], [130, 1], [150, 0], [170, 0]])\n"
     ]
    }
   ],
   "source": [
    "for i in range(len(iris.target)):\n",
    "    print(labels,features)"
   ]
  },
  {
   "cell_type": "code",
   "execution_count": 41,
   "metadata": {},
   "outputs": [
    {
     "name": "stdout",
     "output_type": "stream",
     "text": [
      "[[140, 1], [130, 1], [150, 0], [170, 0]]\n",
      "[0, 0, 1, 1]\n"
     ]
    }
   ],
   "source": [
    "print(features)\n",
    "print(labels)"
   ]
  },
  {
   "cell_type": "code",
   "execution_count": 26,
   "metadata": {},
   "outputs": [
    {
     "name": "stdout",
     "output_type": "stream",
     "text": [
      "['setosa' 'versicolor' 'virginica']\n"
     ]
    }
   ],
   "source": [
    "print iris.target_names"
   ]
  },
  {
   "cell_type": "markdown",
   "metadata": {},
   "source": [
    "MORE!"
   ]
  },
  {
   "cell_type": "code",
   "execution_count": 42,
   "metadata": {},
   "outputs": [],
   "source": [
    "from sklearn import datasets"
   ]
  },
  {
   "cell_type": "code",
   "execution_count": 43,
   "metadata": {},
   "outputs": [],
   "source": [
    "iris = datasets.load_iris()"
   ]
  },
  {
   "cell_type": "code",
   "execution_count": 44,
   "metadata": {},
   "outputs": [],
   "source": [
    "x = iris.data\n",
    "y = iris.target"
   ]
  },
  {
   "cell_type": "code",
   "execution_count": 49,
   "metadata": {},
   "outputs": [],
   "source": [
    "from sklearn.cross_validation import train_test_split"
   ]
  },
  {
   "cell_type": "code",
   "execution_count": 50,
   "metadata": {},
   "outputs": [],
   "source": [
    "x_train,x_test,y_train,y_test = train_test_split(x,y,test_size=.5)"
   ]
  },
  {
   "cell_type": "markdown",
   "metadata": {},
   "source": [
    "# using decision tree classifier"
   ]
  },
  {
   "cell_type": "code",
   "execution_count": 51,
   "metadata": {},
   "outputs": [],
   "source": [
    "from sklearn import tree"
   ]
  },
  {
   "cell_type": "code",
   "execution_count": 52,
   "metadata": {},
   "outputs": [],
   "source": [
    "my_classifier = tree.DecisionTreeClassifier()"
   ]
  },
  {
   "cell_type": "code",
   "execution_count": 53,
   "metadata": {},
   "outputs": [
    {
     "data": {
      "text/plain": [
       "DecisionTreeClassifier(class_weight=None, criterion='gini', max_depth=None,\n",
       "            max_features=None, max_leaf_nodes=None,\n",
       "            min_impurity_decrease=0.0, min_impurity_split=None,\n",
       "            min_samples_leaf=1, min_samples_split=2,\n",
       "            min_weight_fraction_leaf=0.0, presort=False, random_state=None,\n",
       "            splitter='best')"
      ]
     },
     "execution_count": 53,
     "metadata": {},
     "output_type": "execute_result"
    }
   ],
   "source": [
    "my_classifier.fit(x_train,y_train)"
   ]
  },
  {
   "cell_type": "code",
   "execution_count": 54,
   "metadata": {},
   "outputs": [],
   "source": [
    "predictions = my_classifier.predict(x_test)"
   ]
  },
  {
   "cell_type": "code",
   "execution_count": 55,
   "metadata": {},
   "outputs": [
    {
     "name": "stdout",
     "output_type": "stream",
     "text": [
      "[1 1 1 2 2 2 0 2 2 1 2 2 2 1 1 1 1 1 2 0 2 0 1 0 2 2 2 0 0 0 0 0 0 0 1 1 1\n",
      " 1 2 0 1 2 0 0 0 2 0 0 2 2 1 0 2 2 0 2 2 0 2 0 1 1 2 0 1 1 0 2 2 1 1 1 0 1\n",
      " 0]\n"
     ]
    }
   ],
   "source": [
    "print predictions"
   ]
  },
  {
   "cell_type": "code",
   "execution_count": 56,
   "metadata": {},
   "outputs": [],
   "source": [
    "from sklearn.metrics import accuracy_score"
   ]
  },
  {
   "cell_type": "code",
   "execution_count": 60,
   "metadata": {},
   "outputs": [
    {
     "name": "stdout",
     "output_type": "stream",
     "text": [
      "97.33333333333334\n"
     ]
    }
   ],
   "source": [
    "print accuracy_score(y_test,predictions)*100"
   ]
  },
  {
   "cell_type": "markdown",
   "metadata": {},
   "source": [
    "# using k neighbours"
   ]
  },
  {
   "cell_type": "code",
   "execution_count": 61,
   "metadata": {},
   "outputs": [],
   "source": [
    "from sklearn.neighbors import KNeighborsClassifier"
   ]
  },
  {
   "cell_type": "code",
   "execution_count": 62,
   "metadata": {},
   "outputs": [],
   "source": [
    "new_classifier = KNeighborsClassifier()"
   ]
  },
  {
   "cell_type": "code",
   "execution_count": 63,
   "metadata": {},
   "outputs": [
    {
     "data": {
      "text/plain": [
       "KNeighborsClassifier(algorithm='auto', leaf_size=30, metric='minkowski',\n",
       "           metric_params=None, n_jobs=1, n_neighbors=5, p=2,\n",
       "           weights='uniform')"
      ]
     },
     "execution_count": 63,
     "metadata": {},
     "output_type": "execute_result"
    }
   ],
   "source": [
    "new_classifier.fit(x_train,y_train)"
   ]
  },
  {
   "cell_type": "code",
   "execution_count": 64,
   "metadata": {},
   "outputs": [],
   "source": [
    "predictions2 = new_classifier.predict(x_test)"
   ]
  },
  {
   "cell_type": "code",
   "execution_count": 65,
   "metadata": {},
   "outputs": [
    {
     "name": "stdout",
     "output_type": "stream",
     "text": [
      "[1 1 1 2 2 2 0 2 2 1 2 2 2 1 1 1 1 1 2 0 2 0 1 0 2 2 2 0 0 0 0 0 0 0 1 1 1\n",
      " 1 2 0 1 2 0 0 0 2 0 0 2 2 1 0 2 2 0 2 2 0 2 0 1 1 2 0 1 1 0 2 2 1 1 1 0 1\n",
      " 0]\n"
     ]
    }
   ],
   "source": [
    "print predictions"
   ]
  },
  {
   "cell_type": "code",
   "execution_count": 66,
   "metadata": {},
   "outputs": [],
   "source": [
    "from sklearn.metrics import accuracy_score"
   ]
  },
  {
   "cell_type": "code",
   "execution_count": 67,
   "metadata": {},
   "outputs": [
    {
     "name": "stdout",
     "output_type": "stream",
     "text": [
      "98.66666666666667\n"
     ]
    }
   ],
   "source": [
    "print accuracy_score(y_test,predictions2)*100"
   ]
  },
  {
   "cell_type": "markdown",
   "metadata": {},
   "source": [
    "# k nearest neighbours"
   ]
  },
  {
   "cell_type": "code",
   "execution_count": 68,
   "metadata": {},
   "outputs": [
    {
     "ename": "SyntaxError",
     "evalue": "unexpected EOF while parsing (<ipython-input-68-ad69be6f0d20>, line 1)",
     "output_type": "error",
     "traceback": [
      "\u001b[1;36m  File \u001b[1;32m\"<ipython-input-68-ad69be6f0d20>\"\u001b[1;36m, line \u001b[1;32m1\u001b[0m\n\u001b[1;33m    class ScrappyKNN():\u001b[0m\n\u001b[1;37m                       ^\u001b[0m\n\u001b[1;31mSyntaxError\u001b[0m\u001b[1;31m:\u001b[0m unexpected EOF while parsing\n"
     ]
    }
   ],
   "source": [
    "class ScrappyKNN():"
   ]
  },
  {
   "cell_type": "code",
   "execution_count": null,
   "metadata": {},
   "outputs": [],
   "source": []
  }
 ],
 "metadata": {
  "kernelspec": {
   "display_name": "Python 2",
   "language": "python",
   "name": "python2"
  },
  "language_info": {
   "codemirror_mode": {
    "name": "ipython",
    "version": 2
   },
   "file_extension": ".py",
   "mimetype": "text/x-python",
   "name": "python",
   "nbconvert_exporter": "python",
   "pygments_lexer": "ipython2",
   "version": "2.7.15"
  }
 },
 "nbformat": 4,
 "nbformat_minor": 2
}
